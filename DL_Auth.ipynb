{
 "cells": [
  {
   "cell_type": "code",
   "execution_count": null,
   "metadata": {
    "scrolled": true
   },
   "outputs": [],
   "source": [
    "pip install ipywebrtc"
   ]
  },
  {
   "cell_type": "code",
   "execution_count": null,
   "metadata": {
    "colab": {
     "base_uri": "https://localhost:8080/",
     "height": 363
    },
    "id": "Da11BKrie47h",
    "outputId": "70e35946-e429-4b39-b985-6e01018648e1",
    "scrolled": true
   },
   "outputs": [],
   "source": [
    "\"\"\"import cv2\n",
    "import numpy as np\n",
    "from keras.models import load_model\n",
    "\n",
    "# Load the pre-trained model\n",
    "model = load_model('model.h5')\n",
    "\n",
    "# Define the labels for the classes that the model can predict\n",
    "labels = ['Real','Fake']\n",
    "\n",
    "# Start capturing video from the default camera\n",
    "cap = cv2.VideoCapture(0)\n",
    "\n",
    "# Loop through frames in the video feed\n",
    "while True:\n",
    "    # Read a single frame from the video feed\n",
    "    ret, frame = cap.read()\n",
    "\n",
    "    # Convert the frame to a format that the model can use for prediction\n",
    "    frame = cv2.resize(frame, (64, 64))\n",
    "    frame = np.expand_dims(frame, axis=0)\n",
    "\n",
    "    # Make a prediction using the pre-trained model\n",
    "    pred = model.predict(frame)\n",
    "\n",
    "    # Get the index of the predicted class\n",
    "    pred_idx = np.argmax(pred)\n",
    "\n",
    "    # Get the label for the predicted class\n",
    "    pred_label = labels[pred_idx]\n",
    "\n",
    "    # Display the label on the video feed\n",
    "    cv2.putText(frame, pred_label, (50, 50), cv2.FONT_HERSHEY_SIMPLEX, 1, (0, 255, 0), 2)\n",
    "\n",
    "    # Show the video feed with the predicted label\n",
    "    cv2.imshow('frame', frame)\n",
    "\n",
    "    # Break out of the loop if the 'q' key is pressed\n",
    "    if cv2.waitKey(1) & 0xFF == ord('q'):\n",
    "        break\n",
    "\n",
    "# Release the capture and close all windows\n",
    "cap.release()\n",
    "cv2.destroyAllWindows()\"\"\"\n",
    "\n",
    "import ipywebrtc as webrtc\n",
    "import PIL.Image\n",
    "import numpy as np\n",
    "import cv2\n",
    "import base64\n",
    "from keras.models import load_model\n",
    "\n",
    "# Load the pre-trained model\n",
    "model = load_model('model.h5')\n",
    "\n",
    "# Define the labels for the classes that the model can predict\n",
    "labels = ['Real', 'Fake']\n",
    "\n",
    "# Define a function to handle each new video frame\n",
    "def handle_frame(frame):\n",
    "    # Decode the JPEG image data from base64\n",
    "    jpg_data = base64.b64decode(frame.data.split(',')[1])\n",
    "\n",
    "    # Convert the JPEG image data to a numpy array\n",
    "    np_frame = np.frombuffer(jpg_data, np.uint8)\n",
    "    np_frame = cv2.imdecode(np_frame, cv2.IMREAD_COLOR)\n",
    "\n",
    "    # Convert the frame to a format that the model can use for prediction\n",
    "    frame = cv2.resize(np_frame, (64, 64))\n",
    "    frame = np.expand_dims(frame, axis=0)\n",
    "\n",
    "    # Make a prediction using the pre-trained model\n",
    "    pred = model.predict(frame)\n",
    "\n",
    "    # Get the index of the predicted class\n",
    "    pred_idx = np.argmax(pred)\n",
    "\n",
    "    # Get the label for the predicted class\n",
    "    pred_label = labels[pred_idx]\n",
    "\n",
    "    # Display the label on the video feed\n",
    "    cv2.putText(np_frame, pred_label, (50, 50), cv2.FONT_HERSHEY_SIMPLEX, 1, (0, 255, 0), 2)\n",
    "\n",
    "    # Convert the numpy array to a PIL image\n",
    "    pil_image = PIL.Image.fromarray(np_frame)\n",
    "\n",
    "    # Show the PIL image in the notebook\n",
    "    display(pil_image)\n",
    "\n",
    "# Create a video recorder object\n",
    "video_recorder = webrtc.VideoRecorder(stream=webrtc.CameraStream.facing_user())\n",
    "\n",
    "# Register the frame handler function to be called for each new frame\n",
    "video_recorder.observe(handle_frame, names='data')\n",
    "\n",
    "# Display the video recorder widget\n",
    "display(video_recorder)\n"
   ]
  },
  {
   "cell_type": "code",
   "execution_count": null,
   "metadata": {},
   "outputs": [],
   "source": []
  },
  {
   "cell_type": "code",
   "execution_count": null,
   "metadata": {},
   "outputs": [],
   "source": []
  },
  {
   "cell_type": "code",
   "execution_count": null,
   "metadata": {},
   "outputs": [],
   "source": []
  }
 ],
 "metadata": {
  "colab": {
   "provenance": []
  },
  "kernelspec": {
   "display_name": "Python 3 (ipykernel)",
   "language": "python",
   "name": "python3"
  },
  "language_info": {
   "codemirror_mode": {
    "name": "ipython",
    "version": 3
   },
   "file_extension": ".py",
   "mimetype": "text/x-python",
   "name": "python",
   "nbconvert_exporter": "python",
   "pygments_lexer": "ipython3",
   "version": "3.9.7"
  }
 },
 "nbformat": 4,
 "nbformat_minor": 1
}
