{
 "cells": [
  {
   "cell_type": "markdown",
   "metadata": {
    "id": "3DR-eO17geWu"
   },
   "source": [
    "# Convolutional Neural Network"
   ]
  },
  {
   "cell_type": "markdown",
   "metadata": {
    "id": "EMefrVPCg-60"
   },
   "source": [
    "### Importing the libraries"
   ]
  },
  {
   "cell_type": "code",
   "execution_count": 21,
   "metadata": {
    "id": "sCV30xyVhFbE"
   },
   "outputs": [],
   "source": [
    "import tensorflow as tf\n",
    "from keras.preprocessing.image import ImageDataGenerator"
   ]
  },
  {
   "cell_type": "code",
   "execution_count": 22,
   "metadata": {
    "colab": {
     "base_uri": "https://localhost:8080/",
     "height": 36
    },
    "id": "FIleuCAjoFD8",
    "outputId": "521a9075-1cd8-422d-a88a-739801422975"
   },
   "outputs": [
    {
     "data": {
      "text/plain": [
       "'2.11.0'"
      ]
     },
     "execution_count": 22,
     "metadata": {},
     "output_type": "execute_result"
    }
   ],
   "source": [
    "tf.__version__"
   ]
  },
  {
   "cell_type": "markdown",
   "metadata": {
    "id": "oxQxCBWyoGPE"
   },
   "source": [
    "## Part 1 - Data Preprocessing"
   ]
  },
  {
   "cell_type": "markdown",
   "metadata": {
    "id": "MvE-heJNo3GG"
   },
   "source": [
    "### Preprocessing the Training set"
   ]
  },
  {
   "cell_type": "code",
   "execution_count": 23,
   "metadata": {
    "colab": {
     "base_uri": "https://localhost:8080/",
     "height": 415
    },
    "id": "0koUcJMJpEBD",
    "outputId": "1b5677d0-cf9d-4d3d-c0dc-cd2e2bc554a0"
   },
   "outputs": [
    {
     "name": "stdout",
     "output_type": "stream",
     "text": [
      "Found 62 images belonging to 2 classes.\n"
     ]
    }
   ],
   "source": [
    "train_datagen = ImageDataGenerator(rescale = 1./255,\n",
    "                                   shear_range = 0.2,\n",
    "                                   zoom_range = 0.2,\n",
    "                                   horizontal_flip = True)\n",
    "training_set = train_datagen.flow_from_directory('DataSet/training_set/training_set',\n",
    "                                                 target_size = (64, 64),\n",
    "                                                 batch_size = 4,\n",
    "                                                 class_mode = 'binary')"
   ]
  },
  {
   "cell_type": "markdown",
   "metadata": {
    "id": "mrCMmGw9pHys"
   },
   "source": [
    "### Preprocessing the Test set"
   ]
  },
  {
   "cell_type": "code",
   "execution_count": 24,
   "metadata": {
    "id": "SH4WzfOhpKc3"
   },
   "outputs": [
    {
     "name": "stdout",
     "output_type": "stream",
     "text": [
      "Found 27 images belonging to 2 classes.\n"
     ]
    }
   ],
   "source": [
    "test_datagen = ImageDataGenerator(rescale = 1./255)\n",
    "test_set = test_datagen.flow_from_directory('DataSet/test_set/test_set',\n",
    "                                            target_size = (64, 64),\n",
    "                                            batch_size = 32,\n",
    "                                            class_mode = 'binary')"
   ]
  },
  {
   "cell_type": "markdown",
   "metadata": {
    "id": "af8O4l90gk7B"
   },
   "source": [
    "## Part 2 - Building the CNN"
   ]
  },
  {
   "cell_type": "markdown",
   "metadata": {
    "id": "ces1gXY2lmoX"
   },
   "source": [
    "### Initialising the CNN"
   ]
  },
  {
   "cell_type": "code",
   "execution_count": 25,
   "metadata": {
    "id": "SAUt4UMPlhLS"
   },
   "outputs": [],
   "source": [
    "cnn = tf.keras.models.Sequential()"
   ]
  },
  {
   "cell_type": "markdown",
   "metadata": {
    "id": "u5YJj_XMl5LF"
   },
   "source": [
    "### Step 1 - Convolution"
   ]
  },
  {
   "cell_type": "code",
   "execution_count": 26,
   "metadata": {
    "id": "XPzPrMckl-hV"
   },
   "outputs": [],
   "source": [
    "cnn.add(tf.keras.layers.Conv2D(filters=32, kernel_size=3, activation='relu', input_shape=[64, 64, 3]))"
   ]
  },
  {
   "cell_type": "markdown",
   "metadata": {
    "id": "tf87FpvxmNOJ"
   },
   "source": [
    "### Step 2 - Pooling"
   ]
  },
  {
   "cell_type": "code",
   "execution_count": 27,
   "metadata": {
    "id": "ncpqPl69mOac"
   },
   "outputs": [],
   "source": [
    "cnn.add(tf.keras.layers.MaxPool2D(pool_size=2, strides=2))"
   ]
  },
  {
   "cell_type": "markdown",
   "metadata": {
    "id": "xaTOgD8rm4mU"
   },
   "source": [
    "### Adding a second convolutional layer"
   ]
  },
  {
   "cell_type": "code",
   "execution_count": 28,
   "metadata": {
    "id": "i_-FZjn_m8gk"
   },
   "outputs": [],
   "source": [
    "cnn.add(tf.keras.layers.Conv2D(filters=32, kernel_size=3, activation='relu'))\n",
    "cnn.add(tf.keras.layers.MaxPool2D(pool_size=2, strides=2))"
   ]
  },
  {
   "cell_type": "markdown",
   "metadata": {
    "id": "tmiEuvTunKfk"
   },
   "source": [
    "### Step 3 - Flattening"
   ]
  },
  {
   "cell_type": "code",
   "execution_count": 29,
   "metadata": {
    "id": "6AZeOGCvnNZn"
   },
   "outputs": [],
   "source": [
    "cnn.add(tf.keras.layers.Flatten())"
   ]
  },
  {
   "cell_type": "markdown",
   "metadata": {
    "id": "dAoSECOm203v"
   },
   "source": [
    "### Step 4 - Full Connection"
   ]
  },
  {
   "cell_type": "code",
   "execution_count": 30,
   "metadata": {
    "id": "8GtmUlLd26Nq"
   },
   "outputs": [],
   "source": [
    "cnn.add(tf.keras.layers.Dense(units=128, activation='relu'))"
   ]
  },
  {
   "cell_type": "markdown",
   "metadata": {
    "id": "yTldFvbX28Na"
   },
   "source": [
    "### Step 5 - Output Layer"
   ]
  },
  {
   "cell_type": "code",
   "execution_count": 31,
   "metadata": {
    "id": "1p_Zj1Mc3Ko_"
   },
   "outputs": [],
   "source": [
    "cnn.add(tf.keras.layers.Dense(units=1, activation='sigmoid'))"
   ]
  },
  {
   "cell_type": "markdown",
   "metadata": {
    "id": "D6XkI90snSDl"
   },
   "source": [
    "## Part 3 - Training the CNN"
   ]
  },
  {
   "cell_type": "markdown",
   "metadata": {
    "id": "vfrFQACEnc6i"
   },
   "source": [
    "### Compiling the CNN"
   ]
  },
  {
   "cell_type": "code",
   "execution_count": 32,
   "metadata": {
    "id": "NALksrNQpUlJ"
   },
   "outputs": [],
   "source": [
    "cnn.compile(optimizer = 'adam', loss = 'binary_crossentropy', metrics = ['accuracy'])"
   ]
  },
  {
   "cell_type": "markdown",
   "metadata": {
    "id": "ehS-v3MIpX2h"
   },
   "source": [
    "### Training the CNN on the Training set and evaluating it on the Test set"
   ]
  },
  {
   "cell_type": "code",
   "execution_count": 33,
   "metadata": {
    "id": "XUj1W4PJptta"
   },
   "outputs": [
    {
     "name": "stdout",
     "output_type": "stream",
     "text": [
      "Epoch 1/30\n",
      "16/16 [==============================] - 2s 75ms/step - loss: 0.8081 - accuracy: 0.5161 - val_loss: 0.6267 - val_accuracy: 0.7037\n",
      "Epoch 2/30\n",
      "16/16 [==============================] - 1s 55ms/step - loss: 0.7176 - accuracy: 0.4516 - val_loss: 0.7012 - val_accuracy: 0.2963\n",
      "Epoch 3/30\n",
      "16/16 [==============================] - 1s 55ms/step - loss: 0.6837 - accuracy: 0.5968 - val_loss: 0.6746 - val_accuracy: 0.7037\n",
      "Epoch 4/30\n",
      "16/16 [==============================] - 1s 52ms/step - loss: 0.6857 - accuracy: 0.5645 - val_loss: 0.6419 - val_accuracy: 0.7037\n",
      "Epoch 5/30\n",
      "16/16 [==============================] - 1s 53ms/step - loss: 0.6472 - accuracy: 0.6774 - val_loss: 0.6474 - val_accuracy: 0.7778\n",
      "Epoch 6/30\n",
      "16/16 [==============================] - 1s 70ms/step - loss: 0.6067 - accuracy: 0.6452 - val_loss: 0.6221 - val_accuracy: 0.7037\n",
      "Epoch 7/30\n",
      "16/16 [==============================] - 1s 85ms/step - loss: 0.5430 - accuracy: 0.7903 - val_loss: 0.8102 - val_accuracy: 0.4074\n",
      "Epoch 8/30\n",
      "16/16 [==============================] - 3s 197ms/step - loss: 0.4476 - accuracy: 0.8065 - val_loss: 0.7639 - val_accuracy: 0.8148\n",
      "Epoch 9/30\n",
      "16/16 [==============================] - 2s 102ms/step - loss: 0.4429 - accuracy: 0.7742 - val_loss: 0.8960 - val_accuracy: 0.7778\n",
      "Epoch 10/30\n",
      "16/16 [==============================] - 1s 90ms/step - loss: 0.4108 - accuracy: 0.7903 - val_loss: 0.5995 - val_accuracy: 0.8148\n",
      "Epoch 11/30\n",
      "16/16 [==============================] - 1s 84ms/step - loss: 0.3831 - accuracy: 0.8548 - val_loss: 1.0789 - val_accuracy: 0.7778\n",
      "Epoch 12/30\n",
      "16/16 [==============================] - 1s 81ms/step - loss: 0.3867 - accuracy: 0.7903 - val_loss: 0.6046 - val_accuracy: 0.8889\n",
      "Epoch 13/30\n",
      "16/16 [==============================] - 1s 80ms/step - loss: 0.3482 - accuracy: 0.8548 - val_loss: 1.3099 - val_accuracy: 0.7407\n",
      "Epoch 14/30\n",
      "16/16 [==============================] - 1s 82ms/step - loss: 0.4606 - accuracy: 0.7581 - val_loss: 0.4901 - val_accuracy: 0.8148\n",
      "Epoch 15/30\n",
      "16/16 [==============================] - 1s 80ms/step - loss: 0.2908 - accuracy: 0.8871 - val_loss: 0.5303 - val_accuracy: 0.8519\n",
      "Epoch 16/30\n",
      "16/16 [==============================] - 1s 84ms/step - loss: 0.2608 - accuracy: 0.9194 - val_loss: 0.4180 - val_accuracy: 0.8889\n",
      "Epoch 17/30\n",
      "16/16 [==============================] - 1s 80ms/step - loss: 0.2740 - accuracy: 0.8871 - val_loss: 0.5671 - val_accuracy: 0.8889\n",
      "Epoch 18/30\n",
      "16/16 [==============================] - 1s 76ms/step - loss: 0.2628 - accuracy: 0.8871 - val_loss: 0.3424 - val_accuracy: 0.8889\n",
      "Epoch 19/30\n",
      "16/16 [==============================] - 2s 87ms/step - loss: 0.2648 - accuracy: 0.9194 - val_loss: 0.5380 - val_accuracy: 0.8889\n",
      "Epoch 20/30\n",
      "16/16 [==============================] - 2s 104ms/step - loss: 0.1832 - accuracy: 0.9355 - val_loss: 0.6097 - val_accuracy: 0.8519\n",
      "Epoch 21/30\n",
      "16/16 [==============================] - 1s 81ms/step - loss: 0.1836 - accuracy: 0.9194 - val_loss: 0.3293 - val_accuracy: 0.8889\n",
      "Epoch 22/30\n",
      "16/16 [==============================] - 1s 89ms/step - loss: 0.1761 - accuracy: 0.9194 - val_loss: 0.1369 - val_accuracy: 0.9630\n",
      "Epoch 23/30\n",
      "16/16 [==============================] - 2s 102ms/step - loss: 0.0916 - accuracy: 0.9677 - val_loss: 0.2634 - val_accuracy: 0.8889\n",
      "Epoch 24/30\n",
      "16/16 [==============================] - 1s 71ms/step - loss: 0.1660 - accuracy: 0.9516 - val_loss: 0.1008 - val_accuracy: 0.9630\n",
      "Epoch 25/30\n",
      "16/16 [==============================] - 1s 81ms/step - loss: 0.1176 - accuracy: 0.9677 - val_loss: 0.0563 - val_accuracy: 1.0000\n",
      "Epoch 26/30\n",
      "16/16 [==============================] - 1s 78ms/step - loss: 0.1601 - accuracy: 0.9516 - val_loss: 0.2090 - val_accuracy: 0.9259\n",
      "Epoch 27/30\n",
      "16/16 [==============================] - 1s 79ms/step - loss: 0.2620 - accuracy: 0.9194 - val_loss: 0.0851 - val_accuracy: 1.0000\n",
      "Epoch 28/30\n",
      "16/16 [==============================] - 1s 80ms/step - loss: 0.1029 - accuracy: 0.9677 - val_loss: 0.1296 - val_accuracy: 0.9630\n",
      "Epoch 29/30\n",
      "16/16 [==============================] - 1s 82ms/step - loss: 0.1675 - accuracy: 0.9516 - val_loss: 0.1763 - val_accuracy: 0.9630\n",
      "Epoch 30/30\n",
      "16/16 [==============================] - 1s 92ms/step - loss: 0.0872 - accuracy: 0.9677 - val_loss: 0.1734 - val_accuracy: 0.9630\n"
     ]
    },
    {
     "data": {
      "text/plain": [
       "<keras.callbacks.History at 0x1811d460be0>"
      ]
     },
     "execution_count": 33,
     "metadata": {},
     "output_type": "execute_result"
    }
   ],
   "source": [
    "cnn.fit(x = training_set, validation_data = test_set, epochs = 30)"
   ]
  },
  {
   "cell_type": "markdown",
   "metadata": {
    "id": "U3PZasO0006Z"
   },
   "source": [
    "## Part 4 - Making a single prediction"
   ]
  },
  {
   "cell_type": "code",
   "execution_count": 34,
   "metadata": {
    "id": "gsSiWEJY1BPB"
   },
   "outputs": [
    {
     "name": "stdout",
     "output_type": "stream",
     "text": [
      "1/1 [==============================] - 0s 223ms/step\n"
     ]
    }
   ],
   "source": [
    "import numpy as np\n",
    "from keras.preprocessing import image\n",
    "test_image = tf.keras.utils.load_img('DataSet\\single_prediction\\d98.jpeg', target_size = (64, 64))\n",
    "test_image = tf.keras.utils.img_to_array(test_image)\n",
    "test_image = np.expand_dims(test_image, axis = 0)\n",
    "result = cnn.predict(test_image)\n",
    "training_set.class_indices\n",
    "if result[0][0] == 1:\n",
    "  prediction = 'Valid License'\n",
    "else:\n",
    "  prediction = 'Not a Valid License'"
   ]
  },
  {
   "cell_type": "code",
   "execution_count": 35,
   "metadata": {
    "id": "ED9KB3I54c1i"
   },
   "outputs": [
    {
     "name": "stdout",
     "output_type": "stream",
     "text": [
      "Not a Valid License\n"
     ]
    }
   ],
   "source": [
    "print(prediction)"
   ]
  },
  {
   "cell_type": "code",
   "execution_count": null,
   "metadata": {},
   "outputs": [],
   "source": []
  }
 ],
 "metadata": {
  "colab": {
   "provenance": []
  },
  "kernelspec": {
   "display_name": "Python 3 (ipykernel)",
   "language": "python",
   "name": "python3"
  },
  "language_info": {
   "codemirror_mode": {
    "name": "ipython",
    "version": 3
   },
   "file_extension": ".py",
   "mimetype": "text/x-python",
   "name": "python",
   "nbconvert_exporter": "python",
   "pygments_lexer": "ipython3",
   "version": "3.9.7"
  }
 },
 "nbformat": 4,
 "nbformat_minor": 1
}
